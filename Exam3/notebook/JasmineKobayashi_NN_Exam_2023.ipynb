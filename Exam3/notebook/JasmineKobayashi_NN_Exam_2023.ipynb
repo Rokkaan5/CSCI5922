{
 "cells": [
  {
   "cell_type": "raw",
   "metadata": {},
   "source": [
    "---\n",
    "title: \"CSCI 5922: Neural Networks Exam3 (Final Exam) - Fall 2023\"\n",
    "author: Jasmine Kobayashi\n",
    "format:\n",
    "  html:\n",
    "    code-fold: false\n",
    "execute:\n",
    "  output: true\n",
    "toc: true\n",
    "---"
   ]
  },
  {
   "cell_type": "markdown",
   "metadata": {},
   "source": [
    "# Part 3: Applying Neural Nets (ANN, CNN, LSTM) to real labeled text data\n",
    "\n",
    "For this part of the Exam, I have gathered articles on three topics: *football*, *science*, and *politics*. The data has already been cleaned, tokenized, and vectorized. Each row (vector) in the dataset is an article, each row is labeled as *football*, *science*, and *politics*. Each column is a word in the vocabulary. The data itself represents the number of times each word appear in that given article. (The data was gathered from [newsapi.org](https://newsapi.org/)).\n",
    "\n",
    "**Here is a link to the cleaned, prepared, labeled data.**\n",
    "\n",
    "<https://drive.google.com/file/d/1-ZAbxWN29iCo44kaLSfYmV2E8YDKcgGE/view?usp=sharing>\n",
    "\n",
    "(If you want to know how this was done (**not required**) - here is code and a tutorial)\n",
    "\n",
    "<https://gatesboltonanalytics.com/?page_id=254>\n",
    "\n",
    "---\n",
    "\n",
    "## The overall goals here include:\n",
    "1. Coding, comparing, and using an ANN, CNN, and LSTM RNN in TF/Keras (Python) to Train models and to Test their accuracy.\n",
    "2. You want to see if you can predict the topic of an article (in this case - *football*, *science*, and *politics*). \n",
    "3. You also want to compare and illustrate the accuracy of your models and determine/discuss which model (ANN, CNN, or LSTM) is best and why this might be.\n",
    "4. **It is up to you how to do this and how best to illustrate and explain your steps, results, and conclusions. Assume the reader is non-technical.**\n",
    "5. You will include a **link** to your code, but do not paste or otherwise include code on the Exam document. (Again, you can place your code wherever you want as long as there is a link to it).\n",
    "\n",
    "## Specific requirements:\n",
    "\n",
    "There are many ways to do this. The following offeres a few core requirements. Beyond this, **YOU must decide what to do and how best to do it.** Part of your grade will be based on your flow, discussion, illustrations, report, and communication of methods and results. Again, you will post a link to the code, but you will not include or paste code in the word doc. \n",
    "\n",
    "1. Use Python and TF/Keras to Train and then Test the accuracy for an ANN, CNN, and LSTM RNN. In other words, you will use three different Neural Networks to create models that should predict whether a test vector (which represents an article on a topic) is on the topic of *science*, *football*, or *politics*. You will need to write code to do this. You already have code for ANNs, CNNs, and LSTM RNNs, so you may choose to repurpose/update your code as needed. \n",
    "2. To show your work and to **illustrate and explain** your work, results, and conclusions you must include at least the following:\n",
    "    \n",
    "    (a) A link to your code. If you wish, you can put your code on your website, Google Colab, GitHub or wherever, an the include the URL on the word doc.\n",
    "    \n",
    "    (b) Show and explain how you **prepared the data** so that you can use it properly to Train and Test your models. (You are not required to validate - but you certainly can). Specifically, if you split the data, discuss and illustrate this. If you encode the labels, discuss and illustrate this, etc. Use images (like screenshots) as needed. YOU decide and explain/show what you are doing.\n",
    "    \n",
    "    (c) **DO NOT** include or paste any code (to Word doc). You do not need nor should you use \"code\" to explain or illustrate what you are doing. Use illustrations, images, explanations. Pretend that the person grading this paper does not know Python but does wan to see and understand what you did, what you found, how your models compare, which model worked best, etc.\n",
    "    \n",
    "    (d) TO be clear - You will be coding, training, and then testing three types of models: ANN, CNN, LSTM. Therefore, you should include screen images (small portions) of the training for each (a few of the last epochs), as well as **confusion matrices** for each that illustrate the test data accuracy for each model.\n",
    "    \n",
    "    (e) Discuss and describe what you are doing and showing.\n",
    "    \n",
    "    (f) Discuss and illustrate the results. Which model worked best (have confusion matrices that support this discussion). Comment on which model you expected to work the best, which model actually worked the best and why. \n",
    "\n",
    "---\n"
   ]
  },
  {
   "cell_type": "code",
   "execution_count": 1,
   "metadata": {},
   "outputs": [
    {
     "name": "stderr",
     "output_type": "stream",
     "text": [
      "2023-12-09 06:50:07.240306: I tensorflow/core/util/port.cc:110] oneDNN custom operations are on. You may see slightly different numerical results due to floating-point round-off errors from different computation orders. To turn them off, set the environment variable `TF_ENABLE_ONEDNN_OPTS=0`.\n",
      "2023-12-09 06:50:07.297604: I tensorflow/core/platform/cpu_feature_guard.cc:182] This TensorFlow binary is optimized to use available CPU instructions in performance-critical operations.\n",
      "To enable the following instructions: SSE4.1 SSE4.2 AVX AVX2 AVX512F AVX512_VNNI FMA, in other operations, rebuild TensorFlow with the appropriate compiler flags.\n"
     ]
    }
   ],
   "source": [
    "# %% libraries\n",
    "import numpy as np\n",
    "import pandas as pd\n",
    "import matplotlib.pyplot as plt\n",
    "import seaborn as sns\n",
    "import os,sys\n",
    "from sklearn.model_selection import train_test_split\n",
    "from sklearn.preprocessing import OneHotEncoder\n",
    "from sklearn.metrics import confusion_matrix\n",
    "\n",
    "import tensorflow as tf\n",
    "from tensorflow import keras\n",
    "from tensorflow.keras import layers\n",
    "import tensorflow.keras\n",
    "from tensorflow.keras.models import Sequential\n",
    "from tensorflow.keras.layers import LSTM, Dense, Dropout, LSTM\n",
    "from tensorflow.keras.optimizers import Adam\n",
    "from tensorflow.keras import layers\n"
   ]
  },
  {
   "cell_type": "code",
   "execution_count": 2,
   "metadata": {},
   "outputs": [
    {
     "name": "stdout",
     "output_type": "stream",
     "text": [
      "current working directory: /home/jasminekobayashi/gh_repos/CSCI5922/Exam3/notebook\n",
      "current working directory: /home/jasminekobayashi/gh_repos/CSCI5922/Exam3\n"
     ]
    }
   ],
   "source": [
    "# %% working directory\n",
    "print(\"current working directory:\", os.getcwd())\n",
    "if os.getcwd()[-15:] != \"/CSCI5922/Exam3\":\n",
    "    src_file_dir = os.path.abspath(\"\")          # directory holding this script file\n",
    "    src_dir = os.path.dirname(src_file_dir)     # parent directory of above directory\n",
    "    os.chdir(src_dir)                           # working directory should now be \".../CSCI5922/Exam3\"\n",
    "    print(\"current working directory:\", os.getcwd())"
   ]
  },
  {
   "cell_type": "markdown",
   "metadata": {},
   "source": [
    "# Data"
   ]
  },
  {
   "cell_type": "code",
   "execution_count": 3,
   "metadata": {},
   "outputs": [
    {
     "data": {
      "text/html": [
       "<div>\n",
       "<style scoped>\n",
       "    .dataframe tbody tr th:only-of-type {\n",
       "        vertical-align: middle;\n",
       "    }\n",
       "\n",
       "    .dataframe tbody tr th {\n",
       "        vertical-align: top;\n",
       "    }\n",
       "\n",
       "    .dataframe thead th {\n",
       "        text-align: right;\n",
       "    }\n",
       "</style>\n",
       "<table border=\"1\" class=\"dataframe\">\n",
       "  <thead>\n",
       "    <tr style=\"text-align: right;\">\n",
       "      <th></th>\n",
       "      <th>LABEL</th>\n",
       "      <th>according</th>\n",
       "      <th>agency</th>\n",
       "      <th>ahead</th>\n",
       "      <th>alabama</th>\n",
       "      <th>amazon</th>\n",
       "      <th>america</th>\n",
       "      <th>american</th>\n",
       "      <th>announced</th>\n",
       "      <th>appeared</th>\n",
       "      <th>...</th>\n",
       "      <th>wolverines</th>\n",
       "      <th>women</th>\n",
       "      <th>work</th>\n",
       "      <th>working</th>\n",
       "      <th>world</th>\n",
       "      <th>wrote</th>\n",
       "      <th>year</th>\n",
       "      <th>years</th>\n",
       "      <th>york</th>\n",
       "      <th>young</th>\n",
       "    </tr>\n",
       "  </thead>\n",
       "  <tbody>\n",
       "    <tr>\n",
       "      <th>0</th>\n",
       "      <td>politics</td>\n",
       "      <td>0</td>\n",
       "      <td>0</td>\n",
       "      <td>0</td>\n",
       "      <td>0</td>\n",
       "      <td>0</td>\n",
       "      <td>0</td>\n",
       "      <td>0</td>\n",
       "      <td>1</td>\n",
       "      <td>0</td>\n",
       "      <td>...</td>\n",
       "      <td>0</td>\n",
       "      <td>0</td>\n",
       "      <td>0</td>\n",
       "      <td>0</td>\n",
       "      <td>0</td>\n",
       "      <td>0</td>\n",
       "      <td>0</td>\n",
       "      <td>0</td>\n",
       "      <td>0</td>\n",
       "      <td>0</td>\n",
       "    </tr>\n",
       "    <tr>\n",
       "      <th>1</th>\n",
       "      <td>politics</td>\n",
       "      <td>0</td>\n",
       "      <td>0</td>\n",
       "      <td>0</td>\n",
       "      <td>0</td>\n",
       "      <td>0</td>\n",
       "      <td>0</td>\n",
       "      <td>0</td>\n",
       "      <td>0</td>\n",
       "      <td>0</td>\n",
       "      <td>...</td>\n",
       "      <td>0</td>\n",
       "      <td>0</td>\n",
       "      <td>0</td>\n",
       "      <td>0</td>\n",
       "      <td>0</td>\n",
       "      <td>0</td>\n",
       "      <td>0</td>\n",
       "      <td>1</td>\n",
       "      <td>0</td>\n",
       "      <td>0</td>\n",
       "    </tr>\n",
       "    <tr>\n",
       "      <th>2</th>\n",
       "      <td>politics</td>\n",
       "      <td>0</td>\n",
       "      <td>0</td>\n",
       "      <td>0</td>\n",
       "      <td>0</td>\n",
       "      <td>0</td>\n",
       "      <td>0</td>\n",
       "      <td>0</td>\n",
       "      <td>0</td>\n",
       "      <td>0</td>\n",
       "      <td>...</td>\n",
       "      <td>0</td>\n",
       "      <td>0</td>\n",
       "      <td>0</td>\n",
       "      <td>0</td>\n",
       "      <td>0</td>\n",
       "      <td>0</td>\n",
       "      <td>0</td>\n",
       "      <td>0</td>\n",
       "      <td>0</td>\n",
       "      <td>0</td>\n",
       "    </tr>\n",
       "    <tr>\n",
       "      <th>3</th>\n",
       "      <td>politics</td>\n",
       "      <td>0</td>\n",
       "      <td>0</td>\n",
       "      <td>0</td>\n",
       "      <td>0</td>\n",
       "      <td>0</td>\n",
       "      <td>0</td>\n",
       "      <td>0</td>\n",
       "      <td>0</td>\n",
       "      <td>0</td>\n",
       "      <td>...</td>\n",
       "      <td>0</td>\n",
       "      <td>0</td>\n",
       "      <td>0</td>\n",
       "      <td>0</td>\n",
       "      <td>0</td>\n",
       "      <td>0</td>\n",
       "      <td>0</td>\n",
       "      <td>0</td>\n",
       "      <td>0</td>\n",
       "      <td>0</td>\n",
       "    </tr>\n",
       "    <tr>\n",
       "      <th>4</th>\n",
       "      <td>politics</td>\n",
       "      <td>0</td>\n",
       "      <td>0</td>\n",
       "      <td>0</td>\n",
       "      <td>0</td>\n",
       "      <td>0</td>\n",
       "      <td>0</td>\n",
       "      <td>0</td>\n",
       "      <td>0</td>\n",
       "      <td>0</td>\n",
       "      <td>...</td>\n",
       "      <td>0</td>\n",
       "      <td>0</td>\n",
       "      <td>0</td>\n",
       "      <td>0</td>\n",
       "      <td>0</td>\n",
       "      <td>0</td>\n",
       "      <td>0</td>\n",
       "      <td>0</td>\n",
       "      <td>0</td>\n",
       "      <td>0</td>\n",
       "    </tr>\n",
       "  </tbody>\n",
       "</table>\n",
       "<p>5 rows × 301 columns</p>\n",
       "</div>"
      ],
      "text/plain": [
       "      LABEL  according  agency  ahead  alabama  amazon  america  american  \\\n",
       "0  politics          0       0      0        0       0        0         0   \n",
       "1  politics          0       0      0        0       0        0         0   \n",
       "2  politics          0       0      0        0       0        0         0   \n",
       "3  politics          0       0      0        0       0        0         0   \n",
       "4  politics          0       0      0        0       0        0         0   \n",
       "\n",
       "   announced  appeared  ...  wolverines  women  work  working  world  wrote  \\\n",
       "0          1         0  ...           0      0     0        0      0      0   \n",
       "1          0         0  ...           0      0     0        0      0      0   \n",
       "2          0         0  ...           0      0     0        0      0      0   \n",
       "3          0         0  ...           0      0     0        0      0      0   \n",
       "4          0         0  ...           0      0     0        0      0      0   \n",
       "\n",
       "   year  years  york  young  \n",
       "0     0      0     0      0  \n",
       "1     0      1     0      0  \n",
       "2     0      0     0      0  \n",
       "3     0      0     0      0  \n",
       "4     0      0     0      0  \n",
       "\n",
       "[5 rows x 301 columns]"
      ]
     },
     "execution_count": 3,
     "metadata": {},
     "output_type": "execute_result"
    }
   ],
   "source": [
    "# %% load data\n",
    "data = pd.read_csv(\"data/Final_News_DF_Labeled_ExamDataset.csv\")\n",
    "data.head()"
   ]
  },
  {
   "cell_type": "markdown",
   "metadata": {},
   "source": [
    "## Separate Features & Targets "
   ]
  },
  {
   "cell_type": "code",
   "execution_count": 4,
   "metadata": {},
   "outputs": [],
   "source": [
    "# %% features vs. targets (aka: estimators vs. predictors, input vs. output, etc.)\n",
    "X = data.drop(columns=['LABEL']).to_numpy()     # features: everything except column \"LABEL\"\n",
    "y = data[[\"LABEL\"]]                             # targets: column \"LABEL\""
   ]
  },
  {
   "cell_type": "code",
   "execution_count": 5,
   "metadata": {},
   "outputs": [
    {
     "data": {
      "text/plain": [
       "array([[0, 0, 0, ..., 0, 0, 0],\n",
       "       [0, 0, 0, ..., 1, 0, 0],\n",
       "       [0, 0, 0, ..., 0, 0, 0],\n",
       "       [0, 0, 0, ..., 0, 0, 0],\n",
       "       [0, 0, 0, ..., 0, 0, 0]])"
      ]
     },
     "execution_count": 5,
     "metadata": {},
     "output_type": "execute_result"
    }
   ],
   "source": [
    "# Preview of X (first 5 rows)\n",
    "X[:5]"
   ]
  },
  {
   "cell_type": "code",
   "execution_count": 6,
   "metadata": {},
   "outputs": [
    {
     "data": {
      "text/html": [
       "<div>\n",
       "<style scoped>\n",
       "    .dataframe tbody tr th:only-of-type {\n",
       "        vertical-align: middle;\n",
       "    }\n",
       "\n",
       "    .dataframe tbody tr th {\n",
       "        vertical-align: top;\n",
       "    }\n",
       "\n",
       "    .dataframe thead th {\n",
       "        text-align: right;\n",
       "    }\n",
       "</style>\n",
       "<table border=\"1\" class=\"dataframe\">\n",
       "  <thead>\n",
       "    <tr style=\"text-align: right;\">\n",
       "      <th></th>\n",
       "      <th>LABEL</th>\n",
       "    </tr>\n",
       "  </thead>\n",
       "  <tbody>\n",
       "    <tr>\n",
       "      <th>0</th>\n",
       "      <td>politics</td>\n",
       "    </tr>\n",
       "    <tr>\n",
       "      <th>1</th>\n",
       "      <td>politics</td>\n",
       "    </tr>\n",
       "    <tr>\n",
       "      <th>2</th>\n",
       "      <td>politics</td>\n",
       "    </tr>\n",
       "    <tr>\n",
       "      <th>3</th>\n",
       "      <td>politics</td>\n",
       "    </tr>\n",
       "    <tr>\n",
       "      <th>4</th>\n",
       "      <td>politics</td>\n",
       "    </tr>\n",
       "  </tbody>\n",
       "</table>\n",
       "</div>"
      ],
      "text/plain": [
       "      LABEL\n",
       "0  politics\n",
       "1  politics\n",
       "2  politics\n",
       "3  politics\n",
       "4  politics"
      ]
     },
     "execution_count": 6,
     "metadata": {},
     "output_type": "execute_result"
    }
   ],
   "source": [
    "# Preview of y\n",
    "y[:5]"
   ]
  },
  {
   "cell_type": "markdown",
   "metadata": {},
   "source": [
    "## One Hot Encoder to Labels"
   ]
  },
  {
   "cell_type": "code",
   "execution_count": 7,
   "metadata": {},
   "outputs": [],
   "source": [
    "# %% One Hot encode label\n",
    "OHE = OneHotEncoder()\n",
    "y = OHE.fit_transform(y).toarray()"
   ]
  },
  {
   "cell_type": "code",
   "execution_count": 8,
   "metadata": {},
   "outputs": [
    {
     "data": {
      "text/plain": [
       "[array(['football', 'politics', 'science'], dtype=object)]"
      ]
     },
     "execution_count": 8,
     "metadata": {},
     "output_type": "execute_result"
    }
   ],
   "source": [
    "OHE.categories_"
   ]
  },
  {
   "cell_type": "code",
   "execution_count": 9,
   "metadata": {},
   "outputs": [
    {
     "data": {
      "text/plain": [
       "array([[0., 1., 0.],\n",
       "       [0., 1., 0.],\n",
       "       [0., 1., 0.],\n",
       "       [0., 1., 0.],\n",
       "       [0., 1., 0.]])"
      ]
     },
     "execution_count": 9,
     "metadata": {},
     "output_type": "execute_result"
    }
   ],
   "source": [
    "# preview one hot encoded y\n",
    "y[:5]"
   ]
  },
  {
   "cell_type": "markdown",
   "metadata": {},
   "source": [
    "## Training & Testing Sets"
   ]
  },
  {
   "cell_type": "code",
   "execution_count": 10,
   "metadata": {},
   "outputs": [],
   "source": [
    "# %% Training & Testing set\n",
    "test_size = 0.2 # what percent of the data = testing set \n",
    "X_train,X_test,y_train,y_test = train_test_split(X,y,test_size=test_size,random_state=123)"
   ]
  },
  {
   "cell_type": "code",
   "execution_count": 11,
   "metadata": {},
   "outputs": [
    {
     "data": {
      "text/plain": [
       "array([[0, 0, 0, ..., 0, 0, 0],\n",
       "       [0, 0, 0, ..., 0, 0, 0],\n",
       "       [0, 0, 0, ..., 0, 0, 0],\n",
       "       [0, 0, 0, ..., 0, 0, 0],\n",
       "       [0, 0, 0, ..., 0, 0, 0]])"
      ]
     },
     "execution_count": 11,
     "metadata": {},
     "output_type": "execute_result"
    }
   ],
   "source": [
    "# preview X_train (first 5 rows)\n",
    "X_train[:5]"
   ]
  },
  {
   "cell_type": "code",
   "execution_count": 12,
   "metadata": {},
   "outputs": [
    {
     "data": {
      "text/plain": [
       "array([[0., 1., 0.],\n",
       "       [0., 0., 1.],\n",
       "       [0., 1., 0.],\n",
       "       [1., 0., 0.],\n",
       "       [1., 0., 0.]])"
      ]
     },
     "execution_count": 12,
     "metadata": {},
     "output_type": "execute_result"
    }
   ],
   "source": [
    "# preview y_train\n",
    "y_train[:5]"
   ]
  },
  {
   "cell_type": "code",
   "execution_count": 13,
   "metadata": {},
   "outputs": [
    {
     "data": {
      "text/plain": [
       "array([['politics'],\n",
       "       ['science'],\n",
       "       ['politics'],\n",
       "       ['football'],\n",
       "       ['football']], dtype=object)"
      ]
     },
     "execution_count": 13,
     "metadata": {},
     "output_type": "execute_result"
    }
   ],
   "source": [
    "# test inverse transform of One-Hot Encoder\n",
    "OHE.inverse_transform(y_train[:5])"
   ]
  },
  {
   "cell_type": "code",
   "execution_count": 14,
   "metadata": {},
   "outputs": [
    {
     "data": {
      "text/plain": [
       "array([[0, 0, 0, ..., 0, 0, 0],\n",
       "       [0, 0, 0, ..., 0, 0, 0],\n",
       "       [0, 0, 0, ..., 0, 0, 0],\n",
       "       [1, 0, 0, ..., 0, 0, 0],\n",
       "       [0, 0, 0, ..., 0, 0, 0]])"
      ]
     },
     "execution_count": 14,
     "metadata": {},
     "output_type": "execute_result"
    }
   ],
   "source": [
    "# preview X_test\n",
    "X_test[:5]"
   ]
  },
  {
   "cell_type": "code",
   "execution_count": 15,
   "metadata": {},
   "outputs": [
    {
     "data": {
      "text/plain": [
       "array([[0., 0., 1.],\n",
       "       [0., 1., 0.],\n",
       "       [0., 1., 0.],\n",
       "       [0., 1., 0.],\n",
       "       [1., 0., 0.]])"
      ]
     },
     "execution_count": 15,
     "metadata": {},
     "output_type": "execute_result"
    }
   ],
   "source": [
    "# preview y_test\n",
    "y_test[:5]"
   ]
  },
  {
   "cell_type": "code",
   "execution_count": 16,
   "metadata": {},
   "outputs": [
    {
     "data": {
      "text/plain": [
       "array([['science'],\n",
       "       ['politics'],\n",
       "       ['politics'],\n",
       "       ['politics'],\n",
       "       ['football']], dtype=object)"
      ]
     },
     "execution_count": 16,
     "metadata": {},
     "output_type": "execute_result"
    }
   ],
   "source": [
    "# preview OHE inverse transform on y_test\n",
    "OHE.inverse_transform(y_test[:5])"
   ]
  },
  {
   "cell_type": "markdown",
   "metadata": {},
   "source": [
    "# Models"
   ]
  },
  {
   "cell_type": "markdown",
   "metadata": {},
   "source": [
    "There are some portions of the code that could be relatively repetitive, so rather than just constantly copy and pasting cell codes, I created the following class to help with some redundancy.\n",
    "\n",
    "The class is built so that after building the model, the desired model to be evaluated is passed into the class when instantiated (and the model summary is outputted during instantiation).\n",
    "\n",
    "It contains functions that simplify some repetitive process with parameters to change the small details to give flexibility to change if needed depending on the model. Some function may default to have some useful informative outputs (like what loss function was used, data previews, etc.). "
   ]
  },
  {
   "cell_type": "code",
   "execution_count": 17,
   "metadata": {},
   "outputs": [
    {
     "name": "stderr",
     "output_type": "stream",
     "text": [
      "2023-12-09 06:50:09.827888: E tensorflow/compiler/xla/stream_executor/cuda/cuda_driver.cc:266] failed call to cuInit: UNKNOWN ERROR (100)\n"
     ]
    }
   ],
   "source": [
    "class exam_model_eval:\n",
    "    def __init__(self,NN_model,\n",
    "                 model_name = 'NN Model',\n",
    "                 X_train=X_train,\n",
    "                 X_test=X_test,\n",
    "                 y_train=y_train,\n",
    "                 y_test=y_test,\n",
    "                 OHE=OHE):\n",
    "        self.NN_model = NN_model\n",
    "        self.model_name = model_name\n",
    "        self.OHE = OHE\n",
    "        self.X_train = X_train\n",
    "        self.X_test = X_test\n",
    "        self.y_train = y_train\n",
    "        self.labeled_y_train = self.OHE.inverse_transform(self.y_train) #likely not needed, but potentially useful\n",
    "        self.y_test = y_test\n",
    "        self.labeled_y_test = self.OHE.inverse_transform(self.y_test)\n",
    "\n",
    "        # print model summary\n",
    "        print(self.NN_model.summary())\n",
    "\n",
    "\n",
    "    def compile_model(self, \n",
    "                      loss = tf.keras.losses.CategoricalCrossentropy(),\n",
    "                      metrics = keras.metrics.CategoricalAccuracy(),\n",
    "                      optimizer = tf.keras.optimizers.legacy.Adam(learning_rate = 0.001)):\n",
    "        self.NN_model.compile(loss=loss,\n",
    "                              metrics = metrics,\n",
    "                              optimizer = optimizer)\n",
    "        print(\"Model was compiled (using following parameters):\")\n",
    "        print(\"Loss Function =\",str(loss))\n",
    "        print(\"Accuracy Metric =\",str(metrics))\n",
    "        print(\"Optimizer =\",str(optimizer))\n",
    "        \n",
    "\n",
    "    def train_model(self,epochs = 10):\n",
    "        self.hist = self.NN_model.fit(self.X_train,\n",
    "                                         self.y_train,\n",
    "                                         epochs = epochs,\n",
    "                                         validation_data =(self.X_test,self.y_test))\n",
    "\n",
    "    def accuracy_plot(self,\n",
    "                      title = \"Accuracy over all Epochs\"):\n",
    "        # Accuracy plot\n",
    "        plt.plot(self.hist.history['categorical_accuracy'], label='accuracy')\n",
    "        plt.plot(self.hist.history['val_categorical_accuracy'], label = 'val_accuracy')\n",
    "        plt.xlabel('Epoch')\n",
    "        plt.ylabel('Accuracy')\n",
    "        plt.title(title+\" for {}\".format(self.model_name))\n",
    "\n",
    "        #plt.ylim([0.5, 1])\n",
    "        plt.legend(loc='lower right')\n",
    "        plt.show()\n",
    "\n",
    "    def loss_plot(self,\n",
    "                  title = \"Loss over all epochs\"):\n",
    "        # Loss plot\n",
    "        plt.plot(self.hist.history['loss'], label='loss')\n",
    "        plt.plot(self.hist.history['val_loss'], label = 'val_loss')\n",
    "        plt.xlabel('Epoch')\n",
    "        plt.ylabel('Loss')\n",
    "        plt.title(title+\" for {} \".format(self.model_name))\n",
    "        #plt.ylim([0.5, 1])\n",
    "        plt.legend(loc='lower right')\n",
    "\n",
    "    def test_model(self,verbose=True):\n",
    "        self.prediction = self.NN_model.predict(self.X_test)\n",
    "        self.labeled_prediction = self.OHE.inverse_transform(self.prediction)\n",
    "        self.eval_loss,self.eval_acc = self.NN_model.evaluate(self.X_test,self.y_test)\n",
    "        \n",
    "        if verbose:\n",
    "            print(\"\\nModel Loss from testing:\")\n",
    "            print(self.eval_loss)\n",
    "\n",
    "            print(\"\\nModel Accuracy from testing:\")\n",
    "            print(self.eval_acc)\n",
    "\n",
    "            print(\"\\nPreview of model prediction (raw):\")\n",
    "            print(self.prediction[:5])\n",
    "\n",
    "            print(\"\\nPreview of predictions labeled:\")\n",
    "            print(self.labeled_prediction[:5])\n",
    "\n",
    "    def pretty_confusion_matrix(self,\n",
    "                                title='Confusion Matrix'):\n",
    "\n",
    "        cm = confusion_matrix(self.labeled_prediction,self.labeled_y_test)\n",
    "        \n",
    "        fig, ax = plt.subplots() \n",
    "        sns.heatmap(cm, annot=True, fmt='g', ax=ax, annot_kws={'size': 18})\n",
    "        ax.set_xlabel('True labels') \n",
    "        ax.set_ylabel('Predicted labels')\n",
    "        ax.xaxis.set_ticklabels(self.OHE.categories_[0].tolist())\n",
    "        ax.yaxis.set_ticklabels(self.OHE.categories_[0].tolist())\n",
    "        ax.set_title(title+\" of {} Prediction Performance\".format(self.model_name)) \n",
    "        plt.show()\n"
   ]
  },
  {
   "cell_type": "markdown",
   "metadata": {},
   "source": [
    "# ANN"
   ]
  },
  {
   "cell_type": "code",
   "execution_count": 32,
   "metadata": {},
   "outputs": [
    {
     "data": {
      "text/plain": [
       "<tf.Tensor: shape=(1194, 3), dtype=float32, numpy=\n",
       "array([[0.33004063, 0.3492546 , 0.32070473],\n",
       "       [0.33382037, 0.4372591 , 0.22892053],\n",
       "       [0.3417396 , 0.32636344, 0.331897  ],\n",
       "       ...,\n",
       "       [0.33349174, 0.34902298, 0.31748527],\n",
       "       [0.36171305, 0.37936315, 0.25892377],\n",
       "       [0.34361306, 0.38707182, 0.26931518]], dtype=float32)>"
      ]
     },
     "execution_count": 32,
     "metadata": {},
     "output_type": "execute_result"
    }
   ],
   "source": [
    "ANN_model = tf.keras.models.Sequential([\n",
    "  tf.keras.layers.Dense(32, activation='relu'), \n",
    "  tf.keras.layers.Dense(16, activation='relu'),\n",
    "  tf.keras.layers.Dropout(.5), \n",
    "  tf.keras.layers.Dense(8, activation='relu'),\n",
    "  tf.keras.layers.Dropout(.5), \n",
    "  tf.keras.layers.Dense(3, activation='softmax')\n",
    "  \n",
    "])\n",
    "\n",
    "ANN_model(X_train)"
   ]
  },
  {
   "cell_type": "code",
   "execution_count": 33,
   "metadata": {},
   "outputs": [
    {
     "name": "stdout",
     "output_type": "stream",
     "text": [
      "Model: \"sequential_2\"\n",
      "_________________________________________________________________\n",
      " Layer (type)                Output Shape              Param #   \n",
      "=================================================================\n",
      " dense_8 (Dense)             (1194, 32)                9632      \n",
      "                                                                 \n",
      " dense_9 (Dense)             (1194, 16)                528       \n",
      "                                                                 \n",
      " dropout_2 (Dropout)         (1194, 16)                0         \n",
      "                                                                 \n",
      " dense_10 (Dense)            (1194, 8)                 136       \n",
      "                                                                 \n",
      " dropout_3 (Dropout)         (1194, 8)                 0         \n",
      "                                                                 \n",
      " dense_11 (Dense)            (1194, 3)                 27        \n",
      "                                                                 \n",
      "=================================================================\n",
      "Total params: 10,323\n",
      "Trainable params: 10,323\n",
      "Non-trainable params: 0\n",
      "_________________________________________________________________\n",
      "None\n"
     ]
    }
   ],
   "source": [
    "my_ANN = exam_model_eval(ANN_model,model_name=\"ANN_model\") #the init of this class prints the model summary"
   ]
  },
  {
   "cell_type": "code",
   "execution_count": 34,
   "metadata": {},
   "outputs": [
    {
     "name": "stdout",
     "output_type": "stream",
     "text": [
      "Model was compiled (using following parameters):\n",
      "Loss Function = <keras.losses.CategoricalCrossentropy object at 0x7f1ad1346010>\n",
      "Accuracy Metric = CategoricalAccuracy(name=categorical_accuracy,dtype=float32)\n",
      "Optimizer = <keras.optimizers.legacy.adam.Adam object at 0x7f1ad13a0790>\n"
     ]
    }
   ],
   "source": [
    "my_ANN.compile_model()"
   ]
  },
  {
   "cell_type": "code",
   "execution_count": 35,
   "metadata": {},
   "outputs": [
    {
     "name": "stdout",
     "output_type": "stream",
     "text": [
      "Epoch 1/100\n"
     ]
    },
    {
     "name": "stdout",
     "output_type": "stream",
     "text": [
      "38/38 [==============================] - 1s 9ms/step - loss: 1.0609 - categorical_accuracy: 0.4655 - val_loss: 0.9922 - val_categorical_accuracy: 0.5585\n",
      "Epoch 2/100\n",
      "38/38 [==============================] - 0s 6ms/step - loss: 0.9574 - categorical_accuracy: 0.5226 - val_loss: 0.8271 - val_categorical_accuracy: 0.6856\n",
      "Epoch 3/100\n",
      "38/38 [==============================] - 0s 6ms/step - loss: 0.8691 - categorical_accuracy: 0.6022 - val_loss: 0.7514 - val_categorical_accuracy: 0.7191\n",
      "Epoch 4/100\n",
      "38/38 [==============================] - 0s 7ms/step - loss: 0.7985 - categorical_accuracy: 0.6449 - val_loss: 0.7239 - val_categorical_accuracy: 0.7023\n",
      "Epoch 5/100\n",
      "38/38 [==============================] - 0s 7ms/step - loss: 0.7221 - categorical_accuracy: 0.7018 - val_loss: 0.7160 - val_categorical_accuracy: 0.7258\n",
      "Epoch 6/100\n",
      "38/38 [==============================] - 0s 7ms/step - loss: 0.7003 - categorical_accuracy: 0.7010 - val_loss: 0.6912 - val_categorical_accuracy: 0.7358\n",
      "Epoch 7/100\n",
      "38/38 [==============================] - 0s 4ms/step - loss: 0.6687 - categorical_accuracy: 0.7362 - val_loss: 0.6997 - val_categorical_accuracy: 0.7324\n",
      "Epoch 8/100\n",
      "38/38 [==============================] - 0s 6ms/step - loss: 0.5994 - categorical_accuracy: 0.7705 - val_loss: 0.7051 - val_categorical_accuracy: 0.7425\n",
      "Epoch 9/100\n",
      "38/38 [==============================] - 0s 8ms/step - loss: 0.6015 - categorical_accuracy: 0.7521 - val_loss: 0.7545 - val_categorical_accuracy: 0.7191\n",
      "Epoch 10/100\n",
      "38/38 [==============================] - 0s 7ms/step - loss: 0.5722 - categorical_accuracy: 0.7739 - val_loss: 0.7448 - val_categorical_accuracy: 0.7258\n",
      "Epoch 11/100\n",
      "38/38 [==============================] - 0s 5ms/step - loss: 0.5451 - categorical_accuracy: 0.7956 - val_loss: 0.7844 - val_categorical_accuracy: 0.7224\n",
      "Epoch 12/100\n",
      "38/38 [==============================] - 0s 6ms/step - loss: 0.5435 - categorical_accuracy: 0.7806 - val_loss: 0.7852 - val_categorical_accuracy: 0.7324\n",
      "Epoch 13/100\n",
      "38/38 [==============================] - 0s 8ms/step - loss: 0.5467 - categorical_accuracy: 0.7881 - val_loss: 0.7863 - val_categorical_accuracy: 0.7224\n",
      "Epoch 14/100\n",
      "38/38 [==============================] - 0s 7ms/step - loss: 0.5073 - categorical_accuracy: 0.8149 - val_loss: 0.8595 - val_categorical_accuracy: 0.7358\n",
      "Epoch 15/100\n",
      "38/38 [==============================] - 0s 7ms/step - loss: 0.5105 - categorical_accuracy: 0.8132 - val_loss: 0.8630 - val_categorical_accuracy: 0.7291\n",
      "Epoch 16/100\n",
      "38/38 [==============================] - 0s 5ms/step - loss: 0.4815 - categorical_accuracy: 0.8208 - val_loss: 0.9094 - val_categorical_accuracy: 0.7358\n",
      "Epoch 17/100\n",
      "38/38 [==============================] - 0s 6ms/step - loss: 0.4803 - categorical_accuracy: 0.8233 - val_loss: 0.9438 - val_categorical_accuracy: 0.7258\n",
      "Epoch 18/100\n",
      "38/38 [==============================] - 0s 8ms/step - loss: 0.4479 - categorical_accuracy: 0.8425 - val_loss: 0.9808 - val_categorical_accuracy: 0.7157\n",
      "Epoch 19/100\n",
      "38/38 [==============================] - 0s 8ms/step - loss: 0.4644 - categorical_accuracy: 0.8241 - val_loss: 0.9853 - val_categorical_accuracy: 0.7191\n",
      "Epoch 20/100\n",
      "38/38 [==============================] - 0s 5ms/step - loss: 0.4860 - categorical_accuracy: 0.8208 - val_loss: 1.0323 - val_categorical_accuracy: 0.7157\n",
      "Epoch 21/100\n",
      "38/38 [==============================] - 0s 7ms/step - loss: 0.4532 - categorical_accuracy: 0.8308 - val_loss: 1.0694 - val_categorical_accuracy: 0.7258\n",
      "Epoch 22/100\n",
      "38/38 [==============================] - 0s 5ms/step - loss: 0.4426 - categorical_accuracy: 0.8333 - val_loss: 1.1106 - val_categorical_accuracy: 0.7157\n",
      "Epoch 23/100\n",
      "38/38 [==============================] - 0s 7ms/step - loss: 0.4474 - categorical_accuracy: 0.8258 - val_loss: 1.1252 - val_categorical_accuracy: 0.7124\n",
      "Epoch 24/100\n",
      "38/38 [==============================] - 0s 8ms/step - loss: 0.4567 - categorical_accuracy: 0.8333 - val_loss: 1.1581 - val_categorical_accuracy: 0.7057\n",
      "Epoch 25/100\n",
      "38/38 [==============================] - 0s 5ms/step - loss: 0.4419 - categorical_accuracy: 0.8325 - val_loss: 1.1681 - val_categorical_accuracy: 0.7157\n",
      "Epoch 26/100\n",
      "38/38 [==============================] - 0s 5ms/step - loss: 0.4283 - categorical_accuracy: 0.8417 - val_loss: 1.2607 - val_categorical_accuracy: 0.7191\n",
      "Epoch 27/100\n",
      "38/38 [==============================] - 0s 5ms/step - loss: 0.4207 - categorical_accuracy: 0.8451 - val_loss: 1.2629 - val_categorical_accuracy: 0.7291\n",
      "Epoch 28/100\n",
      "38/38 [==============================] - 0s 5ms/step - loss: 0.4394 - categorical_accuracy: 0.8266 - val_loss: 1.2707 - val_categorical_accuracy: 0.7258\n",
      "Epoch 29/100\n",
      "38/38 [==============================] - 0s 5ms/step - loss: 0.4305 - categorical_accuracy: 0.8350 - val_loss: 1.2972 - val_categorical_accuracy: 0.7191\n",
      "Epoch 30/100\n",
      "38/38 [==============================] - 0s 5ms/step - loss: 0.4211 - categorical_accuracy: 0.8392 - val_loss: 1.2721 - val_categorical_accuracy: 0.7224\n",
      "Epoch 31/100\n",
      "38/38 [==============================] - 0s 5ms/step - loss: 0.3942 - categorical_accuracy: 0.8526 - val_loss: 1.3503 - val_categorical_accuracy: 0.7191\n",
      "Epoch 32/100\n",
      "38/38 [==============================] - 0s 4ms/step - loss: 0.4103 - categorical_accuracy: 0.8484 - val_loss: 1.4008 - val_categorical_accuracy: 0.7191\n",
      "Epoch 33/100\n",
      "38/38 [==============================] - 0s 5ms/step - loss: 0.4104 - categorical_accuracy: 0.8392 - val_loss: 1.4071 - val_categorical_accuracy: 0.7191\n",
      "Epoch 34/100\n",
      "38/38 [==============================] - 0s 5ms/step - loss: 0.3947 - categorical_accuracy: 0.8543 - val_loss: 1.4329 - val_categorical_accuracy: 0.7191\n",
      "Epoch 35/100\n",
      "38/38 [==============================] - 0s 5ms/step - loss: 0.3994 - categorical_accuracy: 0.8534 - val_loss: 1.5525 - val_categorical_accuracy: 0.7157\n",
      "Epoch 36/100\n",
      "38/38 [==============================] - 0s 5ms/step - loss: 0.4024 - categorical_accuracy: 0.8551 - val_loss: 1.4219 - val_categorical_accuracy: 0.7258\n",
      "Epoch 37/100\n",
      "38/38 [==============================] - 0s 5ms/step - loss: 0.3989 - categorical_accuracy: 0.8476 - val_loss: 1.5466 - val_categorical_accuracy: 0.7157\n",
      "Epoch 38/100\n",
      "38/38 [==============================] - 0s 7ms/step - loss: 0.3825 - categorical_accuracy: 0.8618 - val_loss: 1.5630 - val_categorical_accuracy: 0.7191\n",
      "Epoch 39/100\n",
      "38/38 [==============================] - 0s 5ms/step - loss: 0.3888 - categorical_accuracy: 0.8559 - val_loss: 1.6135 - val_categorical_accuracy: 0.7224\n",
      "Epoch 40/100\n",
      "38/38 [==============================] - 0s 6ms/step - loss: 0.3819 - categorical_accuracy: 0.8618 - val_loss: 1.6149 - val_categorical_accuracy: 0.7224\n",
      "Epoch 41/100\n",
      "38/38 [==============================] - 0s 7ms/step - loss: 0.3592 - categorical_accuracy: 0.8710 - val_loss: 1.6996 - val_categorical_accuracy: 0.7258\n",
      "Epoch 42/100\n",
      "38/38 [==============================] - 0s 4ms/step - loss: 0.3962 - categorical_accuracy: 0.8518 - val_loss: 1.7393 - val_categorical_accuracy: 0.7157\n",
      "Epoch 43/100\n",
      "38/38 [==============================] - 0s 4ms/step - loss: 0.3953 - categorical_accuracy: 0.8585 - val_loss: 1.6474 - val_categorical_accuracy: 0.7124\n",
      "Epoch 44/100\n",
      "38/38 [==============================] - 0s 6ms/step - loss: 0.3869 - categorical_accuracy: 0.8601 - val_loss: 1.7402 - val_categorical_accuracy: 0.7090\n",
      "Epoch 45/100\n",
      "38/38 [==============================] - 0s 8ms/step - loss: 0.3884 - categorical_accuracy: 0.8543 - val_loss: 1.7035 - val_categorical_accuracy: 0.7157\n",
      "Epoch 46/100\n",
      "38/38 [==============================] - 0s 7ms/step - loss: 0.3846 - categorical_accuracy: 0.8618 - val_loss: 1.7722 - val_categorical_accuracy: 0.7191\n",
      "Epoch 47/100\n",
      "38/38 [==============================] - 0s 4ms/step - loss: 0.3532 - categorical_accuracy: 0.8719 - val_loss: 1.7872 - val_categorical_accuracy: 0.7124\n",
      "Epoch 48/100\n",
      "38/38 [==============================] - 0s 7ms/step - loss: 0.3577 - categorical_accuracy: 0.8719 - val_loss: 1.8614 - val_categorical_accuracy: 0.7191\n",
      "Epoch 49/100\n",
      "38/38 [==============================] - 0s 8ms/step - loss: 0.3803 - categorical_accuracy: 0.8576 - val_loss: 1.8644 - val_categorical_accuracy: 0.7191\n",
      "Epoch 50/100\n",
      "38/38 [==============================] - 0s 8ms/step - loss: 0.3874 - categorical_accuracy: 0.8551 - val_loss: 1.8726 - val_categorical_accuracy: 0.7157\n",
      "Epoch 51/100\n",
      "38/38 [==============================] - 0s 5ms/step - loss: 0.3724 - categorical_accuracy: 0.8551 - val_loss: 1.9048 - val_categorical_accuracy: 0.7191\n",
      "Epoch 52/100\n",
      "38/38 [==============================] - 0s 6ms/step - loss: 0.3843 - categorical_accuracy: 0.8576 - val_loss: 1.7867 - val_categorical_accuracy: 0.7157\n",
      "Epoch 53/100\n",
      "38/38 [==============================] - 0s 6ms/step - loss: 0.3655 - categorical_accuracy: 0.8685 - val_loss: 1.8015 - val_categorical_accuracy: 0.7191\n",
      "Epoch 54/100\n",
      "38/38 [==============================] - 0s 6ms/step - loss: 0.3652 - categorical_accuracy: 0.8635 - val_loss: 1.7895 - val_categorical_accuracy: 0.7224\n",
      "Epoch 55/100\n",
      "38/38 [==============================] - 0s 7ms/step - loss: 0.3622 - categorical_accuracy: 0.8626 - val_loss: 1.8268 - val_categorical_accuracy: 0.7224\n",
      "Epoch 56/100\n",
      "38/38 [==============================] - 0s 5ms/step - loss: 0.3686 - categorical_accuracy: 0.8652 - val_loss: 1.8488 - val_categorical_accuracy: 0.7258\n",
      "Epoch 57/100\n",
      "38/38 [==============================] - 0s 8ms/step - loss: 0.3809 - categorical_accuracy: 0.8501 - val_loss: 1.9646 - val_categorical_accuracy: 0.7224\n",
      "Epoch 58/100\n",
      "38/38 [==============================] - 0s 8ms/step - loss: 0.3679 - categorical_accuracy: 0.8660 - val_loss: 1.9349 - val_categorical_accuracy: 0.7224\n",
      "Epoch 59/100\n",
      "38/38 [==============================] - 0s 6ms/step - loss: 0.3767 - categorical_accuracy: 0.8593 - val_loss: 1.9580 - val_categorical_accuracy: 0.7224\n",
      "Epoch 60/100\n",
      "38/38 [==============================] - 0s 4ms/step - loss: 0.3760 - categorical_accuracy: 0.8509 - val_loss: 1.9810 - val_categorical_accuracy: 0.7191\n",
      "Epoch 61/100\n",
      "38/38 [==============================] - 0s 6ms/step - loss: 0.3667 - categorical_accuracy: 0.8643 - val_loss: 1.9790 - val_categorical_accuracy: 0.7157\n",
      "Epoch 62/100\n",
      "38/38 [==============================] - 0s 6ms/step - loss: 0.3844 - categorical_accuracy: 0.8534 - val_loss: 2.0327 - val_categorical_accuracy: 0.7258\n",
      "Epoch 63/100\n",
      "38/38 [==============================] - 0s 5ms/step - loss: 0.3991 - categorical_accuracy: 0.8409 - val_loss: 2.0184 - val_categorical_accuracy: 0.7291\n",
      "Epoch 64/100\n",
      "38/38 [==============================] - 0s 6ms/step - loss: 0.3633 - categorical_accuracy: 0.8601 - val_loss: 2.0526 - val_categorical_accuracy: 0.7291\n",
      "Epoch 65/100\n",
      "38/38 [==============================] - 0s 6ms/step - loss: 0.3769 - categorical_accuracy: 0.8518 - val_loss: 2.0605 - val_categorical_accuracy: 0.7258\n",
      "Epoch 66/100\n",
      "38/38 [==============================] - 0s 5ms/step - loss: 0.3520 - categorical_accuracy: 0.8660 - val_loss: 2.1389 - val_categorical_accuracy: 0.7157\n",
      "Epoch 67/100\n",
      "38/38 [==============================] - 0s 5ms/step - loss: 0.3514 - categorical_accuracy: 0.8677 - val_loss: 2.1457 - val_categorical_accuracy: 0.7157\n",
      "Epoch 68/100\n",
      "38/38 [==============================] - 0s 6ms/step - loss: 0.3461 - categorical_accuracy: 0.8710 - val_loss: 2.1303 - val_categorical_accuracy: 0.7191\n",
      "Epoch 69/100\n",
      "38/38 [==============================] - 0s 6ms/step - loss: 0.3503 - categorical_accuracy: 0.8685 - val_loss: 2.2293 - val_categorical_accuracy: 0.7224\n",
      "Epoch 70/100\n",
      "38/38 [==============================] - 0s 6ms/step - loss: 0.3427 - categorical_accuracy: 0.8710 - val_loss: 2.2827 - val_categorical_accuracy: 0.7157\n",
      "Epoch 71/100\n",
      "38/38 [==============================] - 0s 5ms/step - loss: 0.3481 - categorical_accuracy: 0.8727 - val_loss: 2.3142 - val_categorical_accuracy: 0.7057\n",
      "Epoch 72/100\n",
      "38/38 [==============================] - 0s 5ms/step - loss: 0.3672 - categorical_accuracy: 0.8601 - val_loss: 2.2090 - val_categorical_accuracy: 0.7258\n",
      "Epoch 73/100\n",
      "38/38 [==============================] - 0s 4ms/step - loss: 0.3455 - categorical_accuracy: 0.8652 - val_loss: 2.2007 - val_categorical_accuracy: 0.7090\n",
      "Epoch 74/100\n",
      "38/38 [==============================] - 0s 4ms/step - loss: 0.3685 - categorical_accuracy: 0.8526 - val_loss: 2.2829 - val_categorical_accuracy: 0.7258\n",
      "Epoch 75/100\n",
      "38/38 [==============================] - 0s 7ms/step - loss: 0.3648 - categorical_accuracy: 0.8543 - val_loss: 2.3144 - val_categorical_accuracy: 0.7191\n",
      "Epoch 76/100\n",
      "38/38 [==============================] - 0s 7ms/step - loss: 0.3572 - categorical_accuracy: 0.8702 - val_loss: 2.2419 - val_categorical_accuracy: 0.7258\n",
      "Epoch 77/100\n",
      "38/38 [==============================] - 0s 5ms/step - loss: 0.3494 - categorical_accuracy: 0.8677 - val_loss: 2.2979 - val_categorical_accuracy: 0.7157\n",
      "Epoch 78/100\n",
      "38/38 [==============================] - 0s 6ms/step - loss: 0.3459 - categorical_accuracy: 0.8677 - val_loss: 2.3242 - val_categorical_accuracy: 0.7157\n",
      "Epoch 79/100\n",
      "38/38 [==============================] - 0s 5ms/step - loss: 0.3565 - categorical_accuracy: 0.8660 - val_loss: 2.3559 - val_categorical_accuracy: 0.7224\n",
      "Epoch 80/100\n",
      "38/38 [==============================] - 0s 7ms/step - loss: 0.3271 - categorical_accuracy: 0.8802 - val_loss: 2.3619 - val_categorical_accuracy: 0.7191\n",
      "Epoch 81/100\n",
      "38/38 [==============================] - 0s 5ms/step - loss: 0.3424 - categorical_accuracy: 0.8744 - val_loss: 2.3159 - val_categorical_accuracy: 0.7258\n",
      "Epoch 82/100\n",
      "38/38 [==============================] - 0s 4ms/step - loss: 0.3394 - categorical_accuracy: 0.8719 - val_loss: 2.4338 - val_categorical_accuracy: 0.7258\n",
      "Epoch 83/100\n",
      "38/38 [==============================] - 0s 5ms/step - loss: 0.3524 - categorical_accuracy: 0.8643 - val_loss: 2.4549 - val_categorical_accuracy: 0.7191\n",
      "Epoch 84/100\n",
      "38/38 [==============================] - 0s 5ms/step - loss: 0.3349 - categorical_accuracy: 0.8727 - val_loss: 2.4771 - val_categorical_accuracy: 0.7191\n",
      "Epoch 85/100\n",
      "38/38 [==============================] - 0s 7ms/step - loss: 0.3494 - categorical_accuracy: 0.8744 - val_loss: 2.5058 - val_categorical_accuracy: 0.7258\n",
      "Epoch 86/100\n",
      "38/38 [==============================] - 0s 6ms/step - loss: 0.3373 - categorical_accuracy: 0.8744 - val_loss: 2.5574 - val_categorical_accuracy: 0.7224\n",
      "Epoch 87/100\n",
      "38/38 [==============================] - 0s 5ms/step - loss: 0.3258 - categorical_accuracy: 0.8819 - val_loss: 2.5905 - val_categorical_accuracy: 0.7191\n",
      "Epoch 88/100\n",
      "38/38 [==============================] - 0s 5ms/step - loss: 0.3436 - categorical_accuracy: 0.8727 - val_loss: 2.5652 - val_categorical_accuracy: 0.7224\n",
      "Epoch 89/100\n",
      "38/38 [==============================] - 0s 5ms/step - loss: 0.3245 - categorical_accuracy: 0.8819 - val_loss: 2.5545 - val_categorical_accuracy: 0.7258\n",
      "Epoch 90/100\n",
      "38/38 [==============================] - 0s 7ms/step - loss: 0.3126 - categorical_accuracy: 0.8894 - val_loss: 2.6246 - val_categorical_accuracy: 0.7324\n",
      "Epoch 91/100\n",
      "38/38 [==============================] - 0s 6ms/step - loss: 0.3421 - categorical_accuracy: 0.8710 - val_loss: 2.5784 - val_categorical_accuracy: 0.7258\n",
      "Epoch 92/100\n",
      "38/38 [==============================] - 0s 6ms/step - loss: 0.3294 - categorical_accuracy: 0.8769 - val_loss: 2.6806 - val_categorical_accuracy: 0.7291\n",
      "Epoch 93/100\n",
      "38/38 [==============================] - 0s 6ms/step - loss: 0.3300 - categorical_accuracy: 0.8802 - val_loss: 2.6555 - val_categorical_accuracy: 0.7291\n",
      "Epoch 94/100\n",
      "38/38 [==============================] - 0s 7ms/step - loss: 0.3297 - categorical_accuracy: 0.8836 - val_loss: 2.6393 - val_categorical_accuracy: 0.7224\n",
      "Epoch 95/100\n",
      "38/38 [==============================] - 0s 5ms/step - loss: 0.3247 - categorical_accuracy: 0.8819 - val_loss: 2.6831 - val_categorical_accuracy: 0.7258\n",
      "Epoch 96/100\n",
      "38/38 [==============================] - 0s 7ms/step - loss: 0.3207 - categorical_accuracy: 0.8827 - val_loss: 2.6151 - val_categorical_accuracy: 0.7358\n",
      "Epoch 97/100\n",
      "38/38 [==============================] - 0s 5ms/step - loss: 0.3111 - categorical_accuracy: 0.8844 - val_loss: 2.7279 - val_categorical_accuracy: 0.7358\n",
      "Epoch 98/100\n",
      "38/38 [==============================] - 0s 5ms/step - loss: 0.2767 - categorical_accuracy: 0.9112 - val_loss: 2.7553 - val_categorical_accuracy: 0.7258\n",
      "Epoch 99/100\n",
      "38/38 [==============================] - 0s 6ms/step - loss: 0.3468 - categorical_accuracy: 0.8744 - val_loss: 2.7666 - val_categorical_accuracy: 0.7358\n",
      "Epoch 100/100\n",
      "38/38 [==============================] - 0s 5ms/step - loss: 0.3242 - categorical_accuracy: 0.8827 - val_loss: 2.8050 - val_categorical_accuracy: 0.7324\n",
      "CPU times: user 28.1 s, sys: 8.11 s, total: 36.2 s\n",
      "Wall time: 23.8 s\n"
     ]
    }
   ],
   "source": [
    "%%time\n",
    "my_ANN.train_model(epochs=100)"
   ]
  },
  {
   "cell_type": "code",
   "execution_count": 36,
   "metadata": {},
   "outputs": [
    {
     "data": {
      "image/png": "[encoded data removed]",
      "text/plain": [
       "<Figure size 640x480 with 1 Axes>"
      ]
     },
     "metadata": {},
     "output_type": "display_data"
    },
    {
     "data": {
      "image/png": "[encoded data removed]",
      "text/plain": [
       "<Figure size 640x480 with 1 Axes>"
      ]
     },
     "metadata": {},
     "output_type": "display_data"
    }
   ],
   "source": [
    "my_ANN.accuracy_plot()\n",
    "my_ANN.loss_plot()"
   ]
  },
  {
   "cell_type": "code",
   "execution_count": 37,
   "metadata": {},
   "outputs": [
    {
     "name": "stdout",
     "output_type": "stream",
     "text": [
      "10/10 [==============================] - 0s 2ms/step\n",
      "10/10 [==============================] - 0s 5ms/step - loss: 2.8050 - categorical_accuracy: 0.7324\n",
      "\n",
      "Model Loss from testing:\n",
      "2.8049509525299072\n",
      "\n",
      "Model Accuracy from testing:\n",
      "0.7324414849281311\n",
      "\n",
      "Preview of model prediction (raw):\n",
      "[[1.3068883e-01 2.6154242e-02 8.4315693e-01]\n",
      " [9.9999535e-01 4.8913279e-07 4.1498365e-06]\n",
      " [2.1179220e-04 9.9977952e-01 8.6966475e-06]\n",
      " [8.5237242e-02 6.8804914e-01 2.2671355e-01]\n",
      " [1.0000000e+00 0.0000000e+00 0.0000000e+00]]\n",
      "\n",
      "Preview of predictions labeled:\n",
      "[['science']\n",
      " ['football']\n",
      " ['politics']\n",
      " ['politics']\n",
      " ['football']]\n"
     ]
    }
   ],
   "source": [
    "my_ANN.test_model(verbose=True)"
   ]
  },
  {
   "cell_type": "code",
   "execution_count": 38,
   "metadata": {},
   "outputs": [
    {
     "data": {
      "image/png": "[encoded data removed]",
      "text/plain": [
       "<Figure size 640x480 with 2 Axes>"
      ]
     },
     "metadata": {},
     "output_type": "display_data"
    }
   ],
   "source": [
    "my_ANN.pretty_confusion_matrix()"
   ]
  },
  {
   "cell_type": "markdown",
   "metadata": {},
   "source": [
    "# CNN"
   ]
  },
  {
   "cell_type": "code",
   "execution_count": null,
   "metadata": {},
   "outputs": [],
   "source": []
  },
  {
   "cell_type": "markdown",
   "metadata": {},
   "source": [
    "# LSTM"
   ]
  },
  {
   "cell_type": "code",
   "execution_count": null,
   "metadata": {},
   "outputs": [],
   "source": []
  }
 ],
 "metadata": {
  "kernelspec": {
   "display_name": "base",
   "language": "python",
   "name": "python3"
  },
  "language_info": {
   "codemirror_mode": {
    "name": "ipython",
    "version": 3
   },
   "file_extension": ".py",
   "mimetype": "text/x-python",
   "name": "python",
   "nbconvert_exporter": "python",
   "pygments_lexer": "ipython3",
   "version": "3.11.6"
  }
 },
 "nbformat": 4,
 "nbformat_minor": 2
}
